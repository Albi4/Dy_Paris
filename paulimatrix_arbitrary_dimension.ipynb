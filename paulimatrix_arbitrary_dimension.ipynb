{
 "cells": [
  {
   "cell_type": "code",
   "execution_count": 84,
   "id": "c17af2ce-9bdc-4137-b25b-3beac0a556be",
   "metadata": {},
   "outputs": [],
   "source": [
    "import numpy as np\n",
    "import matplotlib.pyplot as plt\n",
    "import scipy "
   ]
  },
  {
   "cell_type": "code",
   "execution_count": 86,
   "id": "f0e5c1ac-bd83-4b23-ba98-ce4ed10343eb",
   "metadata": {},
   "outputs": [
    {
     "name": "stdout",
     "output_type": "stream",
     "text": [
      "[ 8  7  6  5  4  3  2  1  0 -1 -2 -3 -4 -5 -6 -7 -8]\n"
     ]
    }
   ],
   "source": [
    "I = 1j # Imaginary unit\n",
    "hbar=1\n",
    "J=8 # spin dimensionality\n",
    "m=-np.arange(-J,J+1,1)\n",
    "print(m)"
   ]
  },
  {
   "cell_type": "code",
   "execution_count": 198,
   "id": "20c160ef-3790-4ca9-84f3-ff2aa1b2cb5a",
   "metadata": {},
   "outputs": [],
   "source": [
    "def C_plus(J, m):\n",
    "    return hbar*np.sqrt(J*(J+1)-m*(m+1))\n",
    "    \n",
    "def C_minus(J, m):\n",
    "    return hbar*np.sqrt(J*(J+1)-m*(m-1))\n",
    "    \n",
    "def fillmat_z(J_z, J,m):\n",
    "    for i in np.arange(0,len(m),1):\n",
    "        J_z[i,i]=hbar*m[i]\n",
    "            \n",
    "def fillmat_x(J_x, J, m):\n",
    "    for i in np.arange(0,len(m),1):\n",
    "        for j in np.arange(0, len(m),1):\n",
    "        #offdiag_p=hbar*1/2.0*(C_plus(J,m)+C_minus(J,m))\n",
    "        #offdiga_m=hbar*1/2.0*(C_plus(J,m)+C_minus(J,m))\n",
    "            if i==j:\n",
    "                J_x[i,j]=0\n",
    "                if 0<i<len(m)-1:\n",
    "                    J_x[i,j+1]=0.5*C_minus(J,m[i])\n",
    "                    J_x[i,j-1]=0.5*C_plus(J, m[i])\n",
    "                if i==0:   \n",
    "                    J_x[i,j+1]=0.5*C_minus(J,m[i])\n",
    "                if i==len(m)-1:           \n",
    "                    J_x[i,j-1]=0.5*C_plus(J, m[i])             \n",
    "\n",
    "def fillmat_y(J_y, J, m):\n",
    "    for i in np.arange(0,len(m),1):\n",
    "        for j in np.arange(0, len(m),1):\n",
    "        #offdiag_p=hbar*1/2.0*(C_plus(J,m)+C_minus(J,m))\n",
    "        #offdiga_m=hbar*1/2.0*(C_plus(J,m)+C_minus(J,m))\n",
    "            if i==j:\n",
    "                J_y[i,j]=0\n",
    "                if 0<i<len(m)-1:\n",
    "                    J_y[i,j+1]+=0.5*C_plus(J,m[i+1])/I\n",
    "                    J_y[i,j-1]+=-0.5*C_minus(J, m[i-1])/I\n",
    "                if i==0:   \n",
    "                    J_y[i,j+1]+=0.5*C_plus(J,m[i+1])/I\n",
    "                if i==len(m)-1:           \n",
    "                    J_y[i,j-1]+=-0.5*C_minus(J, m[i-1])/I  \n",
    "            \n",
    "def sqmd(Ji):\n",
    "    return np.dot(np.matrix.getH(Ji),Ji)\n",
    "\n",
    "\n",
    "def projection(m_proj, psi,  m):\n",
    "    basis=np.zeros((len(m),len(m)), dtype=np.complex128)\n",
    "    for i in np.arange(0,len(m),1):\n",
    "        basis[i,i]=1\n",
    "        m_proj[i]=np.dot(basis[i,:],psi)"
   ]
  },
  {
   "cell_type": "code",
   "execution_count": 464,
   "id": "f718017c-ece2-40ff-9afc-db4df386fbb1",
   "metadata": {},
   "outputs": [],
   "source": [
    "def main():\n",
    "    #initialization of the empty matrices \n",
    "    J_z=np.zeros((len(m),len(m)), dtype=np.complex128)\n",
    "    J_x=np.zeros((len(m),len(m)), dtype=np.complex128)\n",
    "    J_y=np.zeros((len(m),len(m)), dtype=np.complex128)\n",
    "    #creation of the spin operators\n",
    "    fillmat_z(J_z,J,m)\n",
    "    fillmat_x(J_x,J,m)\n",
    "    fillmat_y(J_y,J,m)\n",
    "    #creation and annhiliation operators\n",
    "    J_plus=J_x+I*J_y\n",
    "    J_minus=J_x-I*J_y\n",
    "    #Total angular momentum operator\n",
    "    J2=sqmd(J_z)+sqmd(J_x)+sqmd(J_y)\n",
    "    #creation of the basis for the mesaurement projection\n",
    "    m_proj=np.zeros(len(m), dtype=np.complex128)\n",
    "    #creation of the first state, in this case spin down\n",
    "    ψ0=np.zeros(len(m),dtype=np.complex128)\n",
    "    ψ0[16]=1\n",
    "    \n",
    "    H_SD=1*sqmd(J_z)\n",
    "    H_x=J_x\n",
    "    Δt=1\n",
    "    T_final=30\n",
    "    U=scipy.linalg.expm(-I*H_x*Δt)\n",
    "    id=np.dot(np.matrix.getH(U),U)\n",
    "    T_tot=np.arange(0, T_final, Δt)\n",
    "    ψt2=ψ0\n",
    "    for i in np.arange(1, len(T_tot), 1):\n",
    "       \n",
    "        Ui=scipy.linalg.expm(-I*H_x*Δt)\n",
    "        Ui2=scipy.linalg.expm(-I*H_SD*Δt)\n",
    "        ψt=np.dot(Ui, ψt2)\n",
    "        ψt2=np.dot(Ui2,ψt)\n",
    "        \n",
    "    projection(m_proj, ψt2, m)\n",
    "    plt.figure()\n",
    "    plt.bar(m, abs(m_proj))\n",
    "        \n",
    "    ψ1=np.dot(U,ψ0)\n",
    "    ψ1=ψ1/np.linalg.norm(ψ1)\n",
    "    projection(m_proj, ψ1, m)\n",
    "    #print(np.dot(Ψ0,U))\n",
    "    #print(abs(m_proj[1]))\n",
    "\n",
    "    "
   ]
  },
  {
   "cell_type": "code",
   "execution_count": 466,
   "id": "7317c43f-2821-457e-8400-38052a560b45",
   "metadata": {},
   "outputs": [
    {
     "data": {
      "image/png": "[encoded data removed]",
      "text/plain": [
       "<Figure size 640x480 with 1 Axes>"
      ]
     },
     "metadata": {},
     "output_type": "display_data"
    }
   ],
   "source": [
    "if __name__ == \"__main__\":\n",
    "    main()"
   ]
  },
  {
   "cell_type": "code",
   "execution_count": 204,
   "id": "678793a1-b5db-40da-9e99-ece76e763f28",
   "metadata": {},
   "outputs": [
    {
     "name": "stdout",
     "output_type": "stream",
     "text": [
      "[[0.0, -2.0, 0], [2.0, 0.0, -2.7386127875258306], [0.0, -2.7386127875258306, 0]]\n"
     ]
    }
   ],
   "source": [
    "sigma_x_try1=[[0.,-0.5*C_minus(J,m[0]),0],\n",
    "         [0.5*C_plus(J, m[1]),0.,-0.5*C_minus(J, m[1])],\n",
    "             [0.,-0.5*C_plus(J,m[2]),0]]\n",
    "\n",
    "print(sigma_x_try1)\n"
   ]
  },
  {
   "cell_type": "code",
   "execution_count": 524,
   "id": "c5a1e09c-00b6-45a0-a9fa-ba730e9c3a95",
   "metadata": {},
   "outputs": [
    {
     "data": {
      "text/plain": [
       "9.994795636192322e-05"
      ]
     },
     "execution_count": 524,
     "metadata": {},
     "output_type": "execute_result"
    }
   ],
   "source": []
  },
  {
   "cell_type": "code",
   "execution_count": null,
   "id": "6fd5326a-570b-4a70-809a-07bbee4519c0",
   "metadata": {},
   "outputs": [],
   "source": []
  }
 ],
 "metadata": {
  "kernelspec": {
   "display_name": "Python 3 (ipykernel)",
   "language": "python",
   "name": "python3"
  },
  "language_info": {
   "codemirror_mode": {
    "name": "ipython",
    "version": 3
   },
   "file_extension": ".py",
   "mimetype": "text/x-python",
   "name": "python",
   "nbconvert_exporter": "python",
   "pygments_lexer": "ipython3",
   "version": "3.12.4"
  }
 },
 "nbformat": 4,
 "nbformat_minor": 5
}
